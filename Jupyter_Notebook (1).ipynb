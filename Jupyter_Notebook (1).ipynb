{
 "cells": [
  {
   "cell_type": "markdown",
   "metadata": {},
   "source": [
    "<center>\n",
    "    <img src=\"https://s3-api.us-geo.objectstorage.softlayer.net/cf-courses-data/CognitiveClass/Logos/organization_logo/organization_logo.png\" width=\"300\" alt=\"cognitiveclass.ai logo\"  />\n",
    "</center>\n"
   ]
  },
  {
   "cell_type": "markdown",
   "metadata": {},
   "source": [
    "# My Jupyter Notebook on IBM Watson Studio"
   ]
  },
  {
   "cell_type": "markdown",
   "metadata": {},
   "source": [
    "**Giulia Zanier**\n",
    "\n",
    "CFD analyst"
   ]
  },
  {
   "cell_type": "markdown",
   "metadata": {},
   "source": [
    "*I would like to pursue a career as a data scientist because it is a very requested sector in the job market and allows me to use my skills acquired in past studies and work.*"
   ]
  },
  {
   "cell_type": "markdown",
   "metadata": {},
   "source": [
    "### The code computes and prints the first 15 terms of Fibonacci sequence"
   ]
  },
  {
   "cell_type": "code",
   "execution_count": 25,
   "metadata": {},
   "outputs": [
    {
     "name": "stdout",
     "output_type": "stream",
     "text": [
      "[0, 1, 1, 2, 3, 5, 8, 13, 21, 34, 55, 89, 144, 233, 377]\n"
     ]
    }
   ],
   "source": [
    "count = 15\n",
    "n0 = 0\n",
    "n1 = 1\n",
    "k = 0\n",
    "n = [n0, n1]\n",
    "while k < count:\n",
    "    if(k > 1):\n",
    "        nk = n[k-1]+n[k-2]\n",
    "        n.append(nk)\n",
    "    k += 1\n",
    "\n",
    "print(n)\n"
   ]
  },
  {
   "cell_type": "markdown",
   "metadata": {},
   "source": [
    "1. First term of order list\n",
    "2. Second term of order list\n",
    "\n",
    "+ Bullet term list\n",
    "- Another bullet term\n",
    "\n",
    "-----------------------------------------------------------------\n",
    "\n",
    "| Fruit      | Weight (grams)|\n",
    "| ---------- |---------------|\n",
    "| Apple      | 150-240       |      \n",
    "| Cherry     | 7             |\n",
    "| Strawberry | 50-70         |\n",
    "\n",
    "<a href=\"https://www.google.it/\"> Google Link</a> \n"
   ]
  },
  {
   "cell_type": "code",
   "execution_count": null,
   "metadata": {},
   "outputs": [],
   "source": []
  }
 ],
 "metadata": {
  "kernelspec": {
   "display_name": "Python",
   "language": "python",
   "name": "conda-env-python-py"
  },
  "language_info": {
   "codemirror_mode": {
    "name": "ipython",
    "version": 3
   },
   "file_extension": ".py",
   "mimetype": "text/x-python",
   "name": "python",
   "nbconvert_exporter": "python",
   "pygments_lexer": "ipython3",
   "version": "3.7.12"
  }
 },
 "nbformat": 4,
 "nbformat_minor": 4
}
